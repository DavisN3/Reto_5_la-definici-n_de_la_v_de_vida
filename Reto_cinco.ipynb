{
  "nbformat": 4,
  "nbformat_minor": 0,
  "metadata": {
    "colab": {
      "provenance": []
    },
    "kernelspec": {
      "name": "python3",
      "display_name": "Python 3"
    },
    "language_info": {
      "name": "python"
    }
  },
  "cells": [
    {
      "cell_type": "markdown",
      "source": [
        "Programa #1"
      ],
      "metadata": {
        "id": "8aCSamHtf89c"
      }
    },
    {
      "cell_type": "code",
      "source": [
        "import math\n",
        "\n",
        "def geometria_del_solido(r1, r2, h):\n",
        "    def calculo_volumen():\n",
        "        volumen_esfera = (4 / 3) * math.pi * (r1 ** 3)\n",
        "        volumen_cono = (1 / 3) * math.pi * h * (r1 ** 2 + (r1 * r2) + r2 ** 2)\n",
        "\n",
        "        return volumen_esfera + volumen_cono\n",
        "\n",
        "    return calculo_volumen()\n",
        "\n",
        "def calcular_area_superficial(r1, r2, h):\n",
        "    area_esfera = 4 * math.pi * (r1 ** 2)\n",
        "    generatriz = math.sqrt(h ** 2 + (r1 - r2) ** 2)\n",
        "    area_cono_lateral = math.pi * (r1 + r2) * generatriz\n",
        "    area_base_cono = math.pi * r1 ** 2\n",
        "\n",
        "    return area_esfera + area_cono_lateral + area_base_cono\n",
        "\n",
        "def main():\n",
        "    r1 = float(input(\"Ingrese el radio de la esfera (r1): \"))\n",
        "    r2 = float(input(\"Ingrese el radio del cono (r2): \"))\n",
        "    h = float(input(\"Ingrese la altura del cono (h): \"))\n",
        "\n",
        "    volumen = geometria_del_solido(r1, r2, h)\n",
        "    area_superficial = calcular_area_superficial(r1, r2, h)\n",
        "\n",
        "    print(f\"Volumen total: {volumen:.2f} cm³\")\n",
        "    print(f\"Área superficial total: {area_superficial:.2f} cm²\")\n",
        "\n",
        "if __name__ == \"__main__\":\n",
        "    main()"
      ],
      "metadata": {
        "id": "-KF_XdlvgA6z"
      },
      "execution_count": null,
      "outputs": []
    },
    {
      "cell_type": "markdown",
      "source": [
        "Programa #2"
      ],
      "metadata": {
        "id": "Qug_m4cmqh6O"
      }
    },
    {
      "cell_type": "code",
      "source": [
        "import math\n",
        "\n",
        "def geometria_de_figuras(ancho, largo, radio):\n",
        "    def calculo_area():\n",
        "        area_cuadrado = ancho * largo\n",
        "        area_circulos = 2 * (math.pi * (radio ** 2))\n",
        "\n",
        "        return area_cuadrado + area_circulos\n",
        "\n",
        "    return calculo_area()\n",
        "\n",
        "def perimetro_figuras(ancho, largo, radio):\n",
        "    perimetro_cuadrado = 2 * (ancho + largo)\n",
        "    perimetro_circulos = 2 * (2 * math.pi * radio)\n",
        "\n",
        "    return perimetro_cuadrado + perimetro_circulos\n",
        "\n",
        "def main():\n",
        "    ancho = float(input(\"Ingrese el ancho del rectángulo: \"))\n",
        "    largo = float(input(\"Ingrese el largo del rectángulo: \"))\n",
        "    radio = float(input(\"Ingrese el radio de los círculos: \"))\n",
        "\n",
        "    area = geometria_de_figuras(ancho, largo, radio)\n",
        "    perimetro = perimetro_figuras(ancho, largo, radio)\n",
        "\n",
        "    print(f\"El área total de la figura es: {area:.2f} cm²\")\n",
        "    print(f\"El perímetro total de la figura es: {perimetro:.2f} cm\")\n",
        "\n",
        "if __name__ == \"__main__\":\n",
        "    main()"
      ],
      "metadata": {
        "id": "4fP1aB7OqjlN"
      },
      "execution_count": null,
      "outputs": []
    },
    {
      "cell_type": "markdown",
      "source": [
        "Programa #3"
      ],
      "metadata": {
        "id": "qj6Ok31AvmUP"
      }
    },
    {
      "cell_type": "code",
      "source": [
        "def cantidad_aves(N, M, K):\n",
        "    peso_gallina = 6\n",
        "    peso_gallo = 7\n",
        "    peso_pollito = 1\n",
        "\n",
        "    total_carne = (N*peso_gallina) + (M * peso_gallo) + (K * peso_pollito)\n",
        "    return total_carne\n",
        "\n",
        "def main ():\n",
        "    N = int(input(\"Ingrese el número total de gallinas: \"))\n",
        "    M = int(input(\"Ingrese el número total de gallos: \"))\n",
        "    K = int(input(\"Ingrese el número total de pollitos: \"))\n",
        "\n",
        "    total_carne = cantidad_aves(N, M, K)\n",
        "\n",
        "    print(f\"La cantidad total de carne de aves es: {total_carne} kilos\")\n",
        "\n",
        "if __name__ == \"__main__\":\n",
        "    main()"
      ],
      "metadata": {
        "id": "pMCPW2SSv9FO"
      },
      "execution_count": null,
      "outputs": []
    },
    {
      "cell_type": "markdown",
      "source": [
        "Programa #4"
      ],
      "metadata": {
        "id": "9JSWBeSJNMQx"
      }
    },
    {
      "cell_type": "code",
      "source": [
        "def valor_prestamo(c, i, n):\n",
        "    t = c * (1 + (i / 100)) ** n\n",
        "    return t\n",
        "\n",
        "def main():\n",
        "    c = float(input(\"Ingrese la cantidad del préstamo: \"))\n",
        "    i = float(input(\"Ingrese la tasa de interés mensual (expresado en porcentaje): \"))\n",
        "    n = int(input(\"Ingrese el número de meses del préstamo: \"))  # Cambié de float a int\n",
        "\n",
        "    valor_tot = valor_prestamo(c, i, n)\n",
        "\n",
        "    # Corregir el formato de impresión\n",
        "    print(f\"El valor total a pagar después de {n} meses es: {valor_tot:.2f}.\")\n",
        "\n",
        "if __name__ == \"__main__\":\n",
        "    main()"
      ],
      "metadata": {
        "id": "zjub2IMWSTnD"
      },
      "execution_count": null,
      "outputs": []
    },
    {
      "cell_type": "markdown",
      "source": [
        "Programa #5"
      ],
      "metadata": {
        "id": "nVVlNcNrSU1b"
      }
    },
    {
      "cell_type": "code",
      "source": [
        "import math\n",
        "\n",
        "def calculo_promedio(a, b, c, d, e):\n",
        "    return (a + b + c + d + e)/5\n",
        "\n",
        "def calculo_promedio_m(a, b, c, d, e):\n",
        "    multiplicacion = a * b * c * d * e\n",
        "    return multiplicacion ** (1/5)\n",
        "\n",
        "def potencia_mayor_menor(a, b, c, d, e):\n",
        "    mayor = max(a, b, c, d, e)\n",
        "    menor = min(a, b, c, d, e)\n",
        "    return mayor**menor\n",
        "\n",
        "def raiz_cubica(a, b, c, d, e):\n",
        "    menor = min(a, b, c, d, e)\n",
        "    return menor ** (1/3)\n",
        "\n",
        "def main ():\n",
        "    a = float(input(\"Ingrese el número 1: \"))\n",
        "    b = float(input(\"Ingrese el número 2: \"))\n",
        "    c = float(input(\"Ingrese el número 3: \"))\n",
        "    d = float(input(\"Ingrese el número 4: \"))\n",
        "    e = float(input(\"Ingrese el número 5: \"))\n",
        "\n",
        "    promedio = calculo_promedio(a, b, c, d, e)\n",
        "    pm = calculo_promedio_m(a, b, c, d, e)\n",
        "    potencia = potencia_mayor_menor(a, b, c, d, e)\n",
        "    rc = raiz_cubica(a, b, c, d, e)\n",
        "\n",
        "    print(f\"Promedio: {promedio:.2f}\")\n",
        "    print(f\"Promedio multiplicativo: {pm:.2f}\")\n",
        "    print(f\"Potencia del mayor número elevado al menor número: {potencia:.2f}\")\n",
        "    print(f\"Raíz cúbica del número menor: {rc:.2f}\")\n",
        "\n",
        "if __name__ == \"__main__\":\n",
        "    main()"
      ],
      "metadata": {
        "id": "-CRIUKNOSWuK"
      },
      "execution_count": null,
      "outputs": []
    }
  ]
}